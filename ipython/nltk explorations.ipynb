{
 "cells": [
  {
   "cell_type": "code",
   "execution_count": 19,
   "metadata": {
    "collapsed": false
   },
   "outputs": [
    {
     "name": "stdout",
     "output_type": "stream",
     "text": [
      "labour capital industry manufacture society agriculture machinery\n",
      "money wages development appropriation value exchange commodities and\n",
      "law england yarn population the\n"
     ]
    }
   ],
   "source": [
    "import nltk\n",
    "\n",
    "f = open('textfiles/capitalVol1.rtf', 'r')\n",
    "\n",
    "txt = nltk.Text(nltk.tokenize.word_tokenize(f.read()))\n",
    "\n",
    "f.close()\n",
    "\n",
    "txt.similar('socialism')"
   ]
  },
  {
   "cell_type": "code",
   "execution_count": 26,
   "metadata": {
    "collapsed": false
   },
   "outputs": [
    {
     "name": "stdout",
     "output_type": "stream",
     "text": [
      "german\n"
     ]
    }
   ],
   "source": [
    "from nltk import wordpunct_tokenize\n",
    "from nltk.corpus import stopwords\n",
    "\n",
    "f = open('textfiles/wagnerandliszt.txt', 'r')\n",
    "\n",
    "txt = f.read()\n",
    "\n",
    "f.close()\n",
    "\n",
    "def _language_ratios(text):\n",
    "    \"\"\"\n",
    "    Calculates probability that text is of a certain language by the specific stop words used.\n",
    "    \n",
    "    Calculations are given in a dictionary that gives the name of the language and the \n",
    "    relative probability that the text is in that language.\n",
    "    \"\"\"\n",
    "    language_ratios = {}\n",
    "    \n",
    "    \"\"\"\n",
    "    wordpunct_tokenie splits punctuations into separate tokens, so:\n",
    "    >>> wordpunct_tokenize('I'm not far away.)\n",
    "    [\"I\", \"'\", \"m\", \"not\", \"far\", \"away\" \".\"]\n",
    "    \n",
    "    \"\"\"\n",
    "    \n",
    "    tokens = wordpunct_tokenize(text)\n",
    "    words = [word.lower() for word in tokens]\n",
    "    \n",
    "    # computation actually takes place here\n",
    "    for language in stopwords.fileids():\n",
    "        stopwords_set = set(stopwords.words(language))\n",
    "        words_set = set(words)\n",
    "        common_elements = words_set.intersection(stopwords_set)\n",
    "        \n",
    "        language_ratios[language] = len(common_elements)\n",
    "    return language_ratios\n",
    "\n",
    "def detect_language(text):\n",
    "    \"\"\"\n",
    "    returns the highest probability for a text being in a given language\n",
    "    using the previous method.\n",
    "    \"\"\"\n",
    "    \n",
    "    ratios = _language_ratios(text)\n",
    "    \n",
    "    most_rated_language = max(ratios, key=ratios.get)\n",
    "    \n",
    "    return most_rated_language\n",
    "\n",
    "if __name__ == '__main__':\n",
    "    f = open('textfiles/faust.txt', 'r')\n",
    "    txt = f.read()\n",
    "    f.close()\n",
    "    language = detect_language(txt)\n",
    "    print(language)"
   ]
  },
  {
   "cell_type": "code",
   "execution_count": 30,
   "metadata": {
    "collapsed": false
   },
   "outputs": [
    {
     "name": "stdout",
     "output_type": "stream",
     "text": [
      "Displaying 7 of 7 matches:\n",
      " schwebt , Befestigt mit dauernden Gedanken ! ( Der Himmel schließt , die Erze\n",
      "ube , Wo sich fürs Leben , Tief in Gedanken , Liebende geben . Laube bei Laube\n",
      "t einem Poeten , Laßt den Herrn in Gedanken schweifen , Und alle edlen Qualitä\n",
      " wenn es sich schickt , So sind es Gedanken ! FAUST ( wie oben ): Mein Busen f\n",
      "h wir Armen ! Spaziergang Faust in Gedanken auf und ab gehend . Zu ihm Mephist\n",
      "weg . Er steht einen Augenblick in Gedanken , dann folgt er ihr .) MARTHE ( ko\n",
      "GRETCHEN : Weh ! Weh ! Wär ich der Gedanken los , Die mir herüber und hinüber \n"
     ]
    },
    {
     "data": {
      "text/plain": [
       "[('.', '.'),\n",
       " ('Wer', 'NNP'),\n",
       " ('vieles', 'NNS'),\n",
       " ('bringt', 'RB'),\n",
       " (',', ','),\n",
       " ('wird', 'VBD'),\n",
       " ('manchem', 'NN'),\n",
       " ('etwas', 'NN'),\n",
       " ('bringen', 'NN'),\n",
       " (';', ':'),\n",
       " ('Und', 'NNP'),\n",
       " ('jeder', 'NN'),\n",
       " ('geht', 'NN'),\n",
       " ('zufrieden', 'NNP'),\n",
       " ('aus', 'NN'),\n",
       " ('dem', 'NN'),\n",
       " ('Haus', 'NNP'),\n",
       " ('.', '.'),\n",
       " ('Gebt', 'NNP'),\n",
       " ('Ihr', 'NNP')]"
      ]
     },
     "execution_count": 30,
     "metadata": {},
     "output_type": "execute_result"
    }
   ],
   "source": [
    "f = open('textfiles/faust.txt', 'r')\n",
    "txt = f.read()\n",
    "f.close()\n",
    "\n",
    "from nltk import wordpunct_tokenize\n",
    "text = wordpunct_tokenize(txt)\n",
    "texted = nltk.Text(text)\n",
    "\n",
    "\n",
    "tagged = nltk.pos_tag(texted)\n",
    "\n",
    "texted.concordance('gedanken')\n",
    "\n",
    "\"\"\"\n",
    "Tagging does not automatically work in every language.\n",
    "\n",
    "It will return values, but those values are basically entirely inaccurate.\n",
    "\"\"\"\n",
    "tagged[1000:1020]"
   ]
  },
  {
   "cell_type": "code",
   "execution_count": null,
   "metadata": {
    "collapsed": true
   },
   "outputs": [],
   "source": []
  }
 ],
 "metadata": {
  "kernelspec": {
   "display_name": "Python 3",
   "language": "python",
   "name": "python3"
  },
  "language_info": {
   "codemirror_mode": {
    "name": "ipython",
    "version": 3
   },
   "file_extension": ".py",
   "mimetype": "text/x-python",
   "name": "python",
   "nbconvert_exporter": "python",
   "pygments_lexer": "ipython3",
   "version": "3.5.0+"
  }
 },
 "nbformat": 4,
 "nbformat_minor": 0
}
